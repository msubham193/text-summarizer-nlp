{
 "cells": [
  {
   "cell_type": "code",
   "execution_count": 3,
   "metadata": {},
   "outputs": [
    {
     "name": "stdout",
     "output_type": "stream",
     "text": [
      "Requirement already satisfied: youtube_transcript_api in /Users/subhammishra/opt/anaconda3/lib/python3.9/site-packages (0.5.0)\n",
      "Requirement already satisfied: requests in /Users/subhammishra/opt/anaconda3/lib/python3.9/site-packages (from youtube_transcript_api) (2.27.1)\n",
      "Requirement already satisfied: charset-normalizer~=2.0.0 in /Users/subhammishra/opt/anaconda3/lib/python3.9/site-packages (from requests->youtube_transcript_api) (2.0.4)\n",
      "Requirement already satisfied: urllib3<1.27,>=1.21.1 in /Users/subhammishra/opt/anaconda3/lib/python3.9/site-packages (from requests->youtube_transcript_api) (1.26.9)\n",
      "Requirement already satisfied: idna<4,>=2.5 in /Users/subhammishra/opt/anaconda3/lib/python3.9/site-packages (from requests->youtube_transcript_api) (3.3)\n",
      "Requirement already satisfied: certifi>=2017.4.17 in /Users/subhammishra/opt/anaconda3/lib/python3.9/site-packages (from requests->youtube_transcript_api) (2021.10.8)\n",
      "Note: you may need to restart the kernel to use updated packages.\n"
     ]
    }
   ],
   "source": [
    "pip install youtube_transcript_api"
   ]
  },
  {
   "cell_type": "code",
   "execution_count": 4,
   "metadata": {},
   "outputs": [],
   "source": [
    "from youtube_transcript_api import YouTubeTranscriptApi\n",
    "import nltk\n",
    "import re\n",
    "from nltk.corpus import stopwords\n",
    "from sklearn.feature_extraction.text import TfidfVectorizer"
   ]
  },
  {
   "cell_type": "code",
   "execution_count": 5,
   "metadata": {},
   "outputs": [],
   "source": [
    "link = \"https://www.youtube.com/watch?v=Y8Tko2YC5hA\""
   ]
  },
  {
   "cell_type": "code",
   "execution_count": 6,
   "metadata": {},
   "outputs": [],
   "source": [
    "id = link.split(\"=\")[1]"
   ]
  },
  {
   "cell_type": "code",
   "execution_count": 7,
   "metadata": {},
   "outputs": [
    {
     "data": {
      "text/plain": [
       "'Y8Tko2YC5hA'"
      ]
     },
     "execution_count": 7,
     "metadata": {},
     "output_type": "execute_result"
    }
   ],
   "source": [
    "id"
   ]
  },
  {
   "cell_type": "code",
   "execution_count": 8,
   "metadata": {},
   "outputs": [],
   "source": [
    "sub = YouTubeTranscriptApi.get_transcript(id)"
   ]
  },
  {
   "cell_type": "code",
   "execution_count": 9,
   "metadata": {},
   "outputs": [
    {
     "data": {
      "text/plain": [
       "62"
      ]
     },
     "execution_count": 9,
     "metadata": {},
     "output_type": "execute_result"
    }
   ],
   "source": [
    "len(sub)"
   ]
  },
  {
   "cell_type": "code",
   "execution_count": 10,
   "metadata": {},
   "outputs": [
    {
     "data": {
      "text/plain": [
       "{'text': \"In this video, I'm going to answer the top 3 questions\",\n",
       " 'start': 0.0,\n",
       " 'duration': 4.0}"
      ]
     },
     "execution_count": 10,
     "metadata": {},
     "output_type": "execute_result"
    }
   ],
   "source": [
    "sub[0]"
   ]
  },
  {
   "cell_type": "code",
   "execution_count": 11,
   "metadata": {},
   "outputs": [
    {
     "data": {
      "text/plain": [
       "\"In this video, I'm going to answer the top 3 questions\""
      ]
     },
     "execution_count": 11,
     "metadata": {},
     "output_type": "execute_result"
    }
   ],
   "source": [
    "sub[0]['text']"
   ]
  },
  {
   "cell_type": "code",
   "execution_count": 12,
   "metadata": {},
   "outputs": [],
   "source": [
    "subtitle = \" \".join(x['text'] for x in sub)"
   ]
  },
  {
   "cell_type": "code",
   "execution_count": 13,
   "metadata": {},
   "outputs": [
    {
     "data": {
      "text/plain": [
       "'In this video, I\\'m going to answer the top 3 questions my students ask me about Python. What is Python? What  can you do with it? And why is it so popular? In other words, what does it do that other programming languages don\\'t? Python is the  world\\'s fastest growing and most popular programming language, not just  amongst software engineers, but also amongst mathematicians,  data analysts, scientists, accountants, networking engineers, and even kids! Because it\\'s a very beginner friendly programming  language. So people from different disciplines use Python for a variety of different tasks, such as data analysis and visualization,  artificial intelligence and machine learning, automation  in fact this is one of the big uses of Python amongst people who are not software developers. If you constantly have to do boring, repetitive  tasks, such as copying files and folders around, renaming them,  uploading them to a server, you can easily write a Python script to automate all that and save your time. And that\\'s just one example, if you continuously have to work with excel spreadsheets, PDF\\'s, CS View files, download websites and parse them, you can automate all that stuff with Python. So you don\\'t have to be a software developer to use Python. You could be an accountant, a mathematician, or a scientist, and use Python  to make your life easier. You can also use Python to build  web, mobile and desktop applications as well as software  testing or even hacking. So Python is a multi purpose language.  Now if you have some programming experience you may say, \"But Mosh we can do all this stuff with other programming languages, so what\\'s the big deal  about Python?\" Here are a few reasons. With Python you can  solve complex problems in less time with fewer lines of code.  Here\\'s an example. Let\\'s say we want to extract the first three  letters of the text Hello World. This is the code we have to write  in C# this is how we do it in JavaScript and here\\'s how we  do it in Python. See how short and clean the language is? And that\\'s just the beginning. Python makes a lot of trivial things really easy with a simple yet powerful syntax. Here are a few other reasons Python is so popular. It\\'s a high level language so you don\\'t have to worry about complex tasks such as memory management,  like you do in C++. It\\'s cross platform which means  you can build and run Python applications on Windows, Mac,  and Linux. It has a huge community so whenever you get  stuck, there is someone out there to help. It has a large ecosystem  of libraries, frameworks and tools which means whatever you wanna do it is likely that someone else has done it before because Python has been around  for over 20 years. So in a nutshell, Python is a multi-purpose language with a simple, clean, and beginner-friendly  syntax. All of that means Python is awesome. Technically everything you do with Python you can do with other programming languages,  but Python\\'s simplicity and elegance has made it grow way  more than other programming languages. That\\'s why it\\'s the number onne language employers are looking for. So whether you\\'re a programmer or  an absolute beginner, learning Python opens up lots of job opportunities  to you. In fact, the average Python developer earns a whopping 116,000 dollars a year. If you found this video helpful, please support my hard work by liking and sharing it with others.  Also, be sure to subscribe to my channel, because I have a couple of awesome Python tutorials for you, you\\'re going to see them on the screen now.  Here\\'s my Python tutorial for beginners, it\\'s a great starting point if you  have limited or no programming experience. On the other hand, if you  do have some programming experience and want to quickly get up to speed with Python,  I have another tutorial just for you. I\\'m not going to waste your time  telling you what a variable or a function is. I will talk to you like a programmer. There\\'s never been a better time to master Python programming, so click on the tutorial that is right for you and get started. Thank you for watching!'"
      ]
     },
     "execution_count": 13,
     "metadata": {},
     "output_type": "execute_result"
    }
   ],
   "source": [
    "subtitle"
   ]
  },
  {
   "cell_type": "code",
   "execution_count": 14,
   "metadata": {},
   "outputs": [
    {
     "data": {
      "text/plain": [
       "'!\"#$%&\\'()*+,-./:;<=>?@[\\\\]^_`{|}~'"
      ]
     },
     "execution_count": 14,
     "metadata": {},
     "output_type": "execute_result"
    }
   ],
   "source": [
    "import string\n",
    "string.punctuation  #FOR REMOVEING PUNCTUATION WE USE STRING MODULE"
   ]
  },
  {
   "cell_type": "code",
   "execution_count": 15,
   "metadata": {},
   "outputs": [],
   "source": [
    "\n",
    "subtitle2 = \" \";\n",
    "for x in subtitle:\n",
    "    if x not in string.punctuation:\n",
    "       subtitle2 = \"\".join(x)\n",
    "       \n",
    "     \n",
    "    "
   ]
  },
  {
   "cell_type": "code",
   "execution_count": 16,
   "metadata": {},
   "outputs": [],
   "source": [
    "new_subtitle = subtitle.translate(str.maketrans('','',string.punctuation)) #punctuation removing Technique :::: "
   ]
  },
  {
   "cell_type": "code",
   "execution_count": 17,
   "metadata": {},
   "outputs": [
    {
     "data": {
      "text/plain": [
       "3979"
      ]
     },
     "execution_count": 17,
     "metadata": {},
     "output_type": "execute_result"
    }
   ],
   "source": [
    "len(new_subtitle)"
   ]
  },
  {
   "cell_type": "code",
   "execution_count": 18,
   "metadata": {},
   "outputs": [],
   "source": [
    "from nltk.tokenize import sent_tokenize"
   ]
  },
  {
   "cell_type": "code",
   "execution_count": 19,
   "metadata": {},
   "outputs": [],
   "source": [
    "# new_subtitle = new_subtitle.replace('n','')"
   ]
  },
  {
   "cell_type": "code",
   "execution_count": 20,
   "metadata": {},
   "outputs": [
    {
     "data": {
      "text/plain": [
       "'In this video Im going to answer the top 3 questions my students ask me about Python What is Python What  can you do with it And why is it so popular In other words what does it do that other programming languages dont Python is the  worlds fastest growing and most popular programming language not just  amongst software engineers but also amongst mathematicians  data analysts scientists accountants networking engineers and even kids Because its a very beginner friendly programming  language So people from different disciplines use Python for a variety of different tasks such as data analysis and visualization  artificial intelligence and machine learning automation  in fact this is one of the big uses of Python amongst people who are not software developers If you constantly have to do boring repetitive  tasks such as copying files and folders around renaming them  uploading them to a server you can easily write a Python script to automate all that and save your time And thats just one example if you continuously have to work with excel spreadsheets PDFs CS View files download websites and parse them you can automate all that stuff with Python So you dont have to be a software developer to use Python You could be an accountant a mathematician or a scientist and use Python  to make your life easier You can also use Python to build  web mobile and desktop applications as well as software  testing or even hacking So Python is a multi purpose language  Now if you have some programming experience you may say But Mosh we can do all this stuff with other programming languages so whats the big deal  about Python Here are a few reasons With Python you can  solve complex problems in less time with fewer lines of code  Heres an example Lets say we want to extract the first three  letters of the text Hello World This is the code we have to write  in C this is how we do it in JavaScript and heres how we  do it in Python See how short and clean the language is And thats just the beginning Python makes a lot of trivial things really easy with a simple yet powerful syntax Here are a few other reasons Python is so popular Its a high level language so you dont have to worry about complex tasks such as memory management  like you do in C Its cross platform which means  you can build and run Python applications on Windows Mac  and Linux It has a huge community so whenever you get  stuck there is someone out there to help It has a large ecosystem  of libraries frameworks and tools which means whatever you wanna do it is likely that someone else has done it before because Python has been around  for over 20 years So in a nutshell Python is a multipurpose language with a simple clean and beginnerfriendly  syntax All of that means Python is awesome Technically everything you do with Python you can do with other programming languages  but Pythons simplicity and elegance has made it grow way  more than other programming languages Thats why its the number onne language employers are looking for So whether youre a programmer or  an absolute beginner learning Python opens up lots of job opportunities  to you In fact the average Python developer earns a whopping 116000 dollars a year If you found this video helpful please support my hard work by liking and sharing it with others  Also be sure to subscribe to my channel because I have a couple of awesome Python tutorials for you youre going to see them on the screen now  Heres my Python tutorial for beginners its a great starting point if you  have limited or no programming experience On the other hand if you  do have some programming experience and want to quickly get up to speed with Python  I have another tutorial just for you Im not going to waste your time  telling you what a variable or a function is I will talk to you like a programmer Theres never been a better time to master Python programming so click on the tutorial that is right for you and get started Thank you for watching'"
      ]
     },
     "execution_count": 20,
     "metadata": {},
     "output_type": "execute_result"
    }
   ],
   "source": [
    "new_subtitle"
   ]
  },
  {
   "cell_type": "code",
   "execution_count": 21,
   "metadata": {},
   "outputs": [],
   "source": [
    "sentences = sent_tokenize(new_subtitle)"
   ]
  },
  {
   "cell_type": "code",
   "execution_count": 22,
   "metadata": {},
   "outputs": [
    {
     "data": {
      "text/plain": [
       "list"
      ]
     },
     "execution_count": 22,
     "metadata": {},
     "output_type": "execute_result"
    }
   ],
   "source": [
    "type(sentences)"
   ]
  },
  {
   "cell_type": "code",
   "execution_count": 23,
   "metadata": {},
   "outputs": [],
   "source": [
    "organized_sent = {k:v for v,k in enumerate(sentences)} #organize the sentencee to dictonary with corresponding key value"
   ]
  },
  {
   "cell_type": "code",
   "execution_count": 24,
   "metadata": {},
   "outputs": [
    {
     "data": {
      "text/plain": [
       "{'In this video Im going to answer the top 3 questions my students ask me about Python What is Python What  can you do with it And why is it so popular In other words what does it do that other programming languages dont Python is the  worlds fastest growing and most popular programming language not just  amongst software engineers but also amongst mathematicians  data analysts scientists accountants networking engineers and even kids Because its a very beginner friendly programming  language So people from different disciplines use Python for a variety of different tasks such as data analysis and visualization  artificial intelligence and machine learning automation  in fact this is one of the big uses of Python amongst people who are not software developers If you constantly have to do boring repetitive  tasks such as copying files and folders around renaming them  uploading them to a server you can easily write a Python script to automate all that and save your time And thats just one example if you continuously have to work with excel spreadsheets PDFs CS View files download websites and parse them you can automate all that stuff with Python So you dont have to be a software developer to use Python You could be an accountant a mathematician or a scientist and use Python  to make your life easier You can also use Python to build  web mobile and desktop applications as well as software  testing or even hacking So Python is a multi purpose language  Now if you have some programming experience you may say But Mosh we can do all this stuff with other programming languages so whats the big deal  about Python Here are a few reasons With Python you can  solve complex problems in less time with fewer lines of code  Heres an example Lets say we want to extract the first three  letters of the text Hello World This is the code we have to write  in C this is how we do it in JavaScript and heres how we  do it in Python See how short and clean the language is And thats just the beginning Python makes a lot of trivial things really easy with a simple yet powerful syntax Here are a few other reasons Python is so popular Its a high level language so you dont have to worry about complex tasks such as memory management  like you do in C Its cross platform which means  you can build and run Python applications on Windows Mac  and Linux It has a huge community so whenever you get  stuck there is someone out there to help It has a large ecosystem  of libraries frameworks and tools which means whatever you wanna do it is likely that someone else has done it before because Python has been around  for over 20 years So in a nutshell Python is a multipurpose language with a simple clean and beginnerfriendly  syntax All of that means Python is awesome Technically everything you do with Python you can do with other programming languages  but Pythons simplicity and elegance has made it grow way  more than other programming languages Thats why its the number onne language employers are looking for So whether youre a programmer or  an absolute beginner learning Python opens up lots of job opportunities  to you In fact the average Python developer earns a whopping 116000 dollars a year If you found this video helpful please support my hard work by liking and sharing it with others  Also be sure to subscribe to my channel because I have a couple of awesome Python tutorials for you youre going to see them on the screen now  Heres my Python tutorial for beginners its a great starting point if you  have limited or no programming experience On the other hand if you  do have some programming experience and want to quickly get up to speed with Python  I have another tutorial just for you Im not going to waste your time  telling you what a variable or a function is I will talk to you like a programmer Theres never been a better time to master Python programming so click on the tutorial that is right for you and get started Thank you for watching': 0}"
      ]
     },
     "execution_count": 24,
     "metadata": {},
     "output_type": "execute_result"
    }
   ],
   "source": [
    "organized_sent"
   ]
  },
  {
   "cell_type": "code",
   "execution_count": 25,
   "metadata": {},
   "outputs": [],
   "source": [
    "tf_idf = TfidfVectorizer()"
   ]
  },
  {
   "cell_type": "code",
   "execution_count": 26,
   "metadata": {},
   "outputs": [],
   "source": [
    "sentence_vectors = tf_idf.fit_transform(sentences)"
   ]
  },
  {
   "cell_type": "code",
   "execution_count": 27,
   "metadata": {},
   "outputs": [
    {
     "data": {
      "text/plain": [
       "<1x298 sparse matrix of type '<class 'numpy.float64'>'\n",
       "\twith 298 stored elements in Compressed Sparse Row format>"
      ]
     },
     "execution_count": 27,
     "metadata": {},
     "output_type": "execute_result"
    }
   ],
   "source": [
    "sentence_vectors"
   ]
  },
  {
   "cell_type": "code",
   "execution_count": 28,
   "metadata": {},
   "outputs": [],
   "source": [
    "import numpy as np"
   ]
  },
  {
   "cell_type": "code",
   "execution_count": 29,
   "metadata": {},
   "outputs": [],
   "source": [
    "sent_scores = np.array(sentence_vectors.sum(axis=1)).ravel()"
   ]
  },
  {
   "cell_type": "code",
   "execution_count": 30,
   "metadata": {},
   "outputs": [
    {
     "data": {
      "text/plain": [
       "array([9.58070645])"
      ]
     },
     "execution_count": 30,
     "metadata": {},
     "output_type": "execute_result"
    }
   ],
   "source": [
    "sent_scores"
   ]
  },
  {
   "cell_type": "code",
   "execution_count": 31,
   "metadata": {},
   "outputs": [],
   "source": [
    "N = 3\n",
    "top_n_sentences = [sentences[index] for index in np.argsort(sent_scores, axis=0)[::-1][:N]]"
   ]
  },
  {
   "cell_type": "code",
   "execution_count": 32,
   "metadata": {},
   "outputs": [
    {
     "data": {
      "text/plain": [
       "['In this video Im going to answer the top 3 questions my students ask me about Python What is Python What  can you do with it And why is it so popular In other words what does it do that other programming languages dont Python is the  worlds fastest growing and most popular programming language not just  amongst software engineers but also amongst mathematicians  data analysts scientists accountants networking engineers and even kids Because its a very beginner friendly programming  language So people from different disciplines use Python for a variety of different tasks such as data analysis and visualization  artificial intelligence and machine learning automation  in fact this is one of the big uses of Python amongst people who are not software developers If you constantly have to do boring repetitive  tasks such as copying files and folders around renaming them  uploading them to a server you can easily write a Python script to automate all that and save your time And thats just one example if you continuously have to work with excel spreadsheets PDFs CS View files download websites and parse them you can automate all that stuff with Python So you dont have to be a software developer to use Python You could be an accountant a mathematician or a scientist and use Python  to make your life easier You can also use Python to build  web mobile and desktop applications as well as software  testing or even hacking So Python is a multi purpose language  Now if you have some programming experience you may say But Mosh we can do all this stuff with other programming languages so whats the big deal  about Python Here are a few reasons With Python you can  solve complex problems in less time with fewer lines of code  Heres an example Lets say we want to extract the first three  letters of the text Hello World This is the code we have to write  in C this is how we do it in JavaScript and heres how we  do it in Python See how short and clean the language is And thats just the beginning Python makes a lot of trivial things really easy with a simple yet powerful syntax Here are a few other reasons Python is so popular Its a high level language so you dont have to worry about complex tasks such as memory management  like you do in C Its cross platform which means  you can build and run Python applications on Windows Mac  and Linux It has a huge community so whenever you get  stuck there is someone out there to help It has a large ecosystem  of libraries frameworks and tools which means whatever you wanna do it is likely that someone else has done it before because Python has been around  for over 20 years So in a nutshell Python is a multipurpose language with a simple clean and beginnerfriendly  syntax All of that means Python is awesome Technically everything you do with Python you can do with other programming languages  but Pythons simplicity and elegance has made it grow way  more than other programming languages Thats why its the number onne language employers are looking for So whether youre a programmer or  an absolute beginner learning Python opens up lots of job opportunities  to you In fact the average Python developer earns a whopping 116000 dollars a year If you found this video helpful please support my hard work by liking and sharing it with others  Also be sure to subscribe to my channel because I have a couple of awesome Python tutorials for you youre going to see them on the screen now  Heres my Python tutorial for beginners its a great starting point if you  have limited or no programming experience On the other hand if you  do have some programming experience and want to quickly get up to speed with Python  I have another tutorial just for you Im not going to waste your time  telling you what a variable or a function is I will talk to you like a programmer Theres never been a better time to master Python programming so click on the tutorial that is right for you and get started Thank you for watching']"
      ]
     },
     "execution_count": 32,
     "metadata": {},
     "output_type": "execute_result"
    }
   ],
   "source": [
    "top_n_sentences"
   ]
  },
  {
   "cell_type": "code",
   "execution_count": 33,
   "metadata": {},
   "outputs": [],
   "source": [
    "from joblib import dump, load"
   ]
  },
  {
   "cell_type": "code",
   "execution_count": 35,
   "metadata": {},
   "outputs": [
    {
     "ename": "NameError",
     "evalue": "name 'summarizer' is not defined",
     "output_type": "error",
     "traceback": [
      "\u001b[0;31m---------------------------------------------------------------------------\u001b[0m",
      "\u001b[0;31mNameError\u001b[0m                                 Traceback (most recent call last)",
      "\u001b[1;32m/Users/subhammishra/Desktop/M E R N/thoughts/text-summarizer/model.ipynb Cell 32\u001b[0m in \u001b[0;36m<cell line: 1>\u001b[0;34m()\u001b[0m\n\u001b[0;32m----> <a href='vscode-notebook-cell:/Users/subhammishra/Desktop/M%20E%20R%20N/thoughts/text-summarizer/model.ipynb#X43sZmlsZQ%3D%3D?line=0'>1</a>\u001b[0m dump(summarizer,\u001b[39mopen\u001b[39m(\u001b[39m'\u001b[39m\u001b[39msummarizer.joblib\u001b[39m\u001b[39m'\u001b[39m,\u001b[39m'\u001b[39m\u001b[39mwb\u001b[39m\u001b[39m'\u001b[39m))\n",
      "\u001b[0;31mNameError\u001b[0m: name 'summarizer' is not defined"
     ]
    }
   ],
   "source": [
    "dump(summarizer,open('summarizer.joblib','wb'))"
   ]
  },
  {
   "cell_type": "code",
   "execution_count": 44,
   "metadata": {},
   "outputs": [],
   "source": [
    "\n",
    "def summarizer(text):\n",
    "    import spacy\n",
    "    from spacy.lang.en.stop_words import STOP_WORDS\n",
    "    from heapq import nlargest\n",
    "    from string import punctuation\n",
    "    print(\"ll\")\n",
    "    stop_words = list(STOP_WORDS)\n",
    "    nlp = spacy.load('en_core_web_sm')\n",
    "    doc = nlp(text)\n",
    "    tokens = [token.text for token in doc]\n",
    "    word_freq = {}\n",
    "\n",
    "    for word in doc:\n",
    "        if word.text.lower() not in stop_words and word.text.lower() not in punctuation:\n",
    "            if word.text not in word_freq.keys():\n",
    "                word_freq[word.text] = 1\n",
    "            else:\n",
    "                word_freq[word.text] += 1\n",
    "\n",
    "    max_freq = max(word_freq.values())\n",
    "    for word in word_freq:\n",
    "        word_freq[word] = word_freq[word]/max_freq\n",
    "\n",
    "    sent_token = [sent for sent in doc.sents]\n",
    "\n",
    "    sent_scores = {}\n",
    "\n",
    "    for sent in sent_token:\n",
    "        for word in sent:\n",
    "            if word.text in word_freq.keys():\n",
    "                if sent not in sent_scores.keys():\n",
    "                    sent_scores[sent] = word_freq[word.text]\n",
    "                else:\n",
    "                    sent_scores[sent] += word_freq[word.text]\n",
    "\n",
    "    select_len = int(len(sent_token)*0.3)\n",
    "    summary = nlargest(select_len, sent_scores, key=sent_scores.get)\n",
    "    final_summary = [word.text for word in summary]\n",
    "    summary = ' '.join(final_summary)\n",
    "\n",
    "    return summary"
   ]
  },
  {
   "cell_type": "code",
   "execution_count": 48,
   "metadata": {},
   "outputs": [],
   "source": [
    "dump(summarizer,open('summarizer.joblib','wb'))"
   ]
  },
  {
   "cell_type": "code",
   "execution_count": 50,
   "metadata": {},
   "outputs": [],
   "source": [
    "summarizer = load(open('summarizer.joblib', 'rb'))"
   ]
  },
  {
   "cell_type": "code",
   "execution_count": 51,
   "metadata": {},
   "outputs": [
    {
     "name": "stdout",
     "output_type": "stream",
     "text": [
      "ll\n"
     ]
    },
    {
     "data": {
      "text/plain": [
       "'Now you will want to call a fetch on the button click or the form submit.'"
      ]
     },
     "execution_count": 51,
     "metadata": {},
     "output_type": "execute_result"
    }
   ],
   "source": [
    "summarizer(\"This is a simple form. Now you will want to call a fetch on the button click or the form submit. I personally used the button click but it is a matter of preference. So I will create a function and pass it into an onClick on the button. I also use async and await, which is also a preference\")"
   ]
  },
  {
   "cell_type": "code",
   "execution_count": null,
   "metadata": {},
   "outputs": [],
   "source": []
  }
 ],
 "metadata": {
  "kernelspec": {
   "display_name": "base",
   "language": "python",
   "name": "python3"
  },
  "language_info": {
   "codemirror_mode": {
    "name": "ipython",
    "version": 3
   },
   "file_extension": ".py",
   "mimetype": "text/x-python",
   "name": "python",
   "nbconvert_exporter": "python",
   "pygments_lexer": "ipython3",
   "version": "3.9.12"
  },
  "orig_nbformat": 4,
  "vscode": {
   "interpreter": {
    "hash": "62dad0110ab54a4afd720655a9d451ae5db86159c8c27aa3361e8f9c616f9c1c"
   }
  }
 },
 "nbformat": 4,
 "nbformat_minor": 2
}
