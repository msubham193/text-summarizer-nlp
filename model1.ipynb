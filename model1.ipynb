{
 "cells": [
  {
   "cell_type": "code",
   "execution_count": 1,
   "metadata": {},
   "outputs": [],
   "source": [
    "import spacy\n",
    "from spacy.lang.en.stop_words import STOP_WORDS\n",
    "\n",
    "from string import punctuation"
   ]
  },
  {
   "cell_type": "code",
   "execution_count": 2,
   "metadata": {},
   "outputs": [],
   "source": [
    "stop_words = list(STOP_WORDS)"
   ]
  },
  {
   "cell_type": "code",
   "execution_count": 3,
   "metadata": {},
   "outputs": [
    {
     "data": {
      "text/plain": [
       "326"
      ]
     },
     "execution_count": 3,
     "metadata": {},
     "output_type": "execute_result"
    }
   ],
   "source": [
    "len(stop_words)"
   ]
  },
  {
   "cell_type": "code",
   "execution_count": 4,
   "metadata": {},
   "outputs": [],
   "source": [
    "nlp = spacy.load('en_core_web_sm')"
   ]
  },
  {
   "cell_type": "code",
   "execution_count": 5,
   "metadata": {},
   "outputs": [],
   "source": [
    "text = 'In this video Im going to answer the top 3 questions my students ask me about Python What is Python What  can you do with it And why is it so popular In other words what does it do that other programming languages dont Python is the  worlds fastest growing and most popular programming language not just  amongst software engineers but also amongst mathematicians  data analysts scientists accountants networking engineers and even kids Because its a very beginner friendly programming  language So people from different disciplines use Python for a variety of different tasks such as data analysis and visualization  artificial intelligence and machine learning automation  in fact this is one of the big uses of Python amongst people who are not software developers If you constantly have to do boring repetitive  tasks such as copying files and folders around renaming them  uploading them to a server you can easily write a Python script to automate all that and save your time And thats just one example if you continuously have to work with excel spreadsheets PDFs CS View files download websites and parse them you can automate all that stuff with Python So you dont have to be a software developer to use Python You could be an accountant a mathematician or a scientist and use Python  to make your life easier You can also use Python to build  web mobile and desktop applications as well as software  testing or even hacking So Python is a multi purpose language  Now if you have some programming experience you may say But Mosh we can do all this stuff with other programming languages so whats the big deal  about Python Here are a few reasons With Python you can  solve complex problems in less time with fewer lines of code  Heres an example Lets say we want to extract the first three  letters of the text Hello World This is the code we have to write  in C this is how we do it in JavaScript and heres how we  do it in Python See how short and clean the language is And thats just the beginning Python makes a lot of trivial things really easy with a simple yet powerful syntax Here are a few other reasons Python is so popular Its a high level language so you dont have to worry about complex tasks such as memory management  like you do in C Its cross platform which means  you can build and run Python applications on Windows Mac  and Linux It has a huge community so whenever you get  stuck there is someone out there to help It has a large ecosystem  of libraries frameworks and tools which means whatever you wanna do it is likely that someone else has done it before because Python has been around  for over 20 years So in a nutshell Python is a multipurpose language with a simple clean and beginnerfriendly  syntax All of that means Python is awesome Technically everything you do with Python you can do with other programming languages  but Pythons simplicity and elegance has made it grow way  more than other programming languages Thats why its the number onne language employers are looking for So whether youre a programmer or  an absolute beginner learning Python opens up lots of job opportunities  to you In fact the average Python developer earns a whopping 116000 dollars a year If you found this video helpful please support my hard work by liking and sharing it with others  Also be sure to subscribe to my channel because I have a couple of awesome Python tutorials for you youre going to see them on the screen now  Heres my Python tutorial for beginners its a great starting point if you  have limited or no programming experience On the other hand if you  do have some programming experience and want to quickly get up to speed with Python  I have another tutorial just for you Im not going to waste your time  telling you what a variable or a function is I will talk to you like a programmer Theres never been a better time to master Python programming so click on the tutorial that is right for you and get started Thank you for watching'"
   ]
  },
  {
   "cell_type": "code",
   "execution_count": 6,
   "metadata": {},
   "outputs": [],
   "source": [
    "text = text.replace(\"  \",\" \")"
   ]
  },
  {
   "cell_type": "code",
   "execution_count": 7,
   "metadata": {},
   "outputs": [
    {
     "data": {
      "text/plain": [
       "3943"
      ]
     },
     "execution_count": 7,
     "metadata": {},
     "output_type": "execute_result"
    }
   ],
   "source": [
    "len(text)"
   ]
  },
  {
   "cell_type": "code",
   "execution_count": 8,
   "metadata": {},
   "outputs": [],
   "source": [
    "doc = nlp(text)"
   ]
  },
  {
   "cell_type": "code",
   "execution_count": 9,
   "metadata": {},
   "outputs": [
    {
     "name": "stdout",
     "output_type": "stream",
     "text": [
      "In this video Im going to answer the top 3 questions my students ask me about Python What is Python What can you do with it And why is it so popular In other words what does it do that other programming languages dont Python is the worlds fastest growing and most popular programming language not just amongst software engineers but also amongst mathematicians data analysts scientists accountants networking engineers and even kids Because its a very beginner friendly programming language So people from different disciplines use Python for a variety of different tasks such as data analysis and visualization artificial intelligence and machine learning automation in fact this is one of the big uses of Python amongst people who are not software developers If you constantly have to do boring repetitive tasks such as copying files and folders around renaming them uploading them to a server you can easily write a Python script to automate all that and save your time And thats just one example if you continuously have to work with excel spreadsheets PDFs CS View files download websites and parse them you can automate all that stuff with Python So you dont have to be a software developer to use Python You could be an accountant a mathematician or a scientist and use Python to make your life easier You can also use Python to build web mobile and desktop applications as well as software testing or even hacking So Python is a multi purpose language Now if you have some programming experience you may say But Mosh we can do all this stuff with other programming languages so whats the big deal about Python Here are a few reasons With Python you can solve complex problems in less time with fewer lines of code Heres an example Lets say we want to extract the first three letters of the text Hello World This is the code we have to write in C this is how we do it in JavaScript and heres how we do it in Python See how short and clean the language is And thats just the beginning Python makes a lot of trivial things really easy with a simple yet powerful syntax Here are a few other reasons Python is so popular Its a high level language so you dont have to worry about complex tasks such as memory management like you do in C Its cross platform which means you can build and run Python applications on Windows Mac and Linux It has a huge community so whenever you get stuck there is someone out there to help It has a large ecosystem of libraries frameworks and tools which means whatever you wanna do it is likely that someone else has done it before because Python has been around for over 20 years So in a nutshell Python is a multipurpose language with a simple clean and beginnerfriendly syntax All of that means Python is awesome Technically everything you do with Python you can do with other programming languages but Pythons simplicity and elegance has made it grow way more than other programming languages Thats why its the number onne language employers are looking for So whether youre a programmer or an absolute beginner learning Python opens up lots of job opportunities to you In fact the average Python developer earns a whopping 116000 dollars a year If you found this video helpful please support my hard work by liking and sharing it with others Also be sure to subscribe to my channel because I have a couple of awesome Python tutorials for you youre going to see them on the screen now Heres my Python tutorial for beginners its a great starting point if you have limited or no programming experience On the other hand if you do have some programming experience and want to quickly get up to speed with Python I have another tutorial just for you Im not going to waste your time telling you what a variable or a function is I will talk to you like a programmer Theres never been a better time to master Python programming so click on the tutorial that is right for you and get started Thank you for watching\n"
     ]
    }
   ],
   "source": [
    "print(doc)"
   ]
  },
  {
   "cell_type": "code",
   "execution_count": 10,
   "metadata": {},
   "outputs": [],
   "source": [
    "tokens = [token.text for token in doc ]"
   ]
  },
  {
   "cell_type": "code",
   "execution_count": 11,
   "metadata": {},
   "outputs": [
    {
     "data": {
      "text/plain": [
       "723"
      ]
     },
     "execution_count": 11,
     "metadata": {},
     "output_type": "execute_result"
    }
   ],
   "source": [
    "len(tokens)"
   ]
  },
  {
   "cell_type": "code",
   "execution_count": 12,
   "metadata": {},
   "outputs": [],
   "source": [
    "word_freq = {}\n",
    "for word in doc:\n",
    "    if word.text.lower() not in stop_words and word.text.lower() not in punctuation:\n",
    "        if word.text not in word_freq.keys():\n",
    "            word_freq[word.text] = 1\n",
    "        else:\n",
    "            word_freq[word.text]+=1    \n",
    "        \n"
   ]
  },
  {
   "cell_type": "code",
   "execution_count": 13,
   "metadata": {},
   "outputs": [
    {
     "data": {
      "text/plain": [
       "{'video': 2,\n",
       " 'm': 2,\n",
       " 'going': 3,\n",
       " 'answer': 1,\n",
       " '3': 1,\n",
       " 'questions': 1,\n",
       " 'students': 1,\n",
       " 'ask': 1,\n",
       " 'Python': 27,\n",
       " 'popular': 3,\n",
       " 'words': 1,\n",
       " 'programming': 10,\n",
       " 'languages': 4,\n",
       " 'nt': 3,\n",
       " 'worlds': 1,\n",
       " 'fastest': 1,\n",
       " 'growing': 1,\n",
       " 'language': 7,\n",
       " 'software': 4,\n",
       " 'engineers': 2,\n",
       " 'mathematicians': 1,\n",
       " 'data': 2,\n",
       " 'analysts': 1,\n",
       " 'scientists': 1,\n",
       " 'accountants': 1,\n",
       " 'networking': 1,\n",
       " 'kids': 1,\n",
       " 'beginner': 2,\n",
       " 'friendly': 1,\n",
       " 'people': 2,\n",
       " 'different': 2,\n",
       " 'disciplines': 1,\n",
       " 'use': 4,\n",
       " 'variety': 1,\n",
       " 'tasks': 3,\n",
       " 'analysis': 1,\n",
       " 'visualization': 1,\n",
       " 'artificial': 1,\n",
       " 'intelligence': 1,\n",
       " 'machine': 1,\n",
       " 'learning': 2,\n",
       " 'automation': 1,\n",
       " 'fact': 2,\n",
       " 'big': 2,\n",
       " 'uses': 1,\n",
       " 'developers': 1,\n",
       " 'constantly': 1,\n",
       " 'boring': 1,\n",
       " 'repetitive': 1,\n",
       " 'copying': 1,\n",
       " 'files': 2,\n",
       " 'folders': 1,\n",
       " 'renaming': 1,\n",
       " 'uploading': 1,\n",
       " 'server': 1,\n",
       " 'easily': 1,\n",
       " 'write': 2,\n",
       " 'script': 1,\n",
       " 'automate': 2,\n",
       " 'save': 1,\n",
       " 'time': 4,\n",
       " 's': 5,\n",
       " 'example': 2,\n",
       " 'continuously': 1,\n",
       " 'work': 2,\n",
       " 'excel': 1,\n",
       " 'spreadsheets': 1,\n",
       " 'PDFs': 1,\n",
       " 'CS': 1,\n",
       " 'View': 1,\n",
       " 'download': 1,\n",
       " 'websites': 1,\n",
       " 'parse': 1,\n",
       " 'stuff': 2,\n",
       " 'developer': 2,\n",
       " 'accountant': 1,\n",
       " 'mathematician': 1,\n",
       " 'scientist': 1,\n",
       " 'life': 1,\n",
       " 'easier': 1,\n",
       " 'build': 2,\n",
       " 'web': 1,\n",
       " 'mobile': 1,\n",
       " 'desktop': 1,\n",
       " 'applications': 2,\n",
       " 'testing': 1,\n",
       " 'hacking': 1,\n",
       " 'multi': 1,\n",
       " 'purpose': 1,\n",
       " 'experience': 3,\n",
       " 'Mosh': 1,\n",
       " 'deal': 1,\n",
       " 'reasons': 2,\n",
       " 'solve': 1,\n",
       " 'complex': 2,\n",
       " 'problems': 1,\n",
       " 'fewer': 1,\n",
       " 'lines': 1,\n",
       " 'code': 2,\n",
       " 'Heres': 2,\n",
       " 'Lets': 1,\n",
       " 'want': 2,\n",
       " 'extract': 1,\n",
       " 'letters': 1,\n",
       " 'text': 1,\n",
       " 'Hello': 1,\n",
       " 'World': 1,\n",
       " 'C': 2,\n",
       " 'JavaScript': 1,\n",
       " 'heres': 1,\n",
       " 'short': 1,\n",
       " 'clean': 2,\n",
       " 'beginning': 1,\n",
       " 'makes': 1,\n",
       " 'lot': 1,\n",
       " 'trivial': 1,\n",
       " 'things': 1,\n",
       " 'easy': 1,\n",
       " 'simple': 2,\n",
       " 'powerful': 1,\n",
       " 'syntax': 2,\n",
       " 'high': 1,\n",
       " 'level': 1,\n",
       " 'worry': 1,\n",
       " 'memory': 1,\n",
       " 'management': 1,\n",
       " 'like': 2,\n",
       " 'cross': 1,\n",
       " 'platform': 1,\n",
       " 'means': 3,\n",
       " 'run': 1,\n",
       " 'Windows': 1,\n",
       " 'Mac': 1,\n",
       " 'Linux': 1,\n",
       " 'huge': 1,\n",
       " 'community': 1,\n",
       " 'stuck': 1,\n",
       " 'help': 1,\n",
       " 'large': 1,\n",
       " 'ecosystem': 1,\n",
       " 'libraries': 1,\n",
       " 'frameworks': 1,\n",
       " 'tools': 1,\n",
       " 'wanna': 1,\n",
       " 'likely': 1,\n",
       " '20': 1,\n",
       " 'years': 1,\n",
       " 'nutshell': 1,\n",
       " 'multipurpose': 1,\n",
       " 'beginnerfriendly': 1,\n",
       " 'awesome': 2,\n",
       " 'Technically': 1,\n",
       " 'Pythons': 1,\n",
       " 'simplicity': 1,\n",
       " 'elegance': 1,\n",
       " 'grow': 1,\n",
       " 'way': 1,\n",
       " 'number': 1,\n",
       " 'onne': 1,\n",
       " 'employers': 1,\n",
       " 'looking': 1,\n",
       " 'programmer': 2,\n",
       " 'absolute': 1,\n",
       " 'opens': 1,\n",
       " 'lots': 1,\n",
       " 'job': 1,\n",
       " 'opportunities': 1,\n",
       " 'average': 1,\n",
       " 'earns': 1,\n",
       " 'whopping': 1,\n",
       " '116000': 1,\n",
       " 'dollars': 1,\n",
       " 'year': 1,\n",
       " 'found': 1,\n",
       " 'helpful': 1,\n",
       " 'support': 1,\n",
       " 'hard': 1,\n",
       " 'liking': 1,\n",
       " 'sharing': 1,\n",
       " 'sure': 1,\n",
       " 'subscribe': 1,\n",
       " 'channel': 1,\n",
       " 'couple': 1,\n",
       " 'tutorials': 1,\n",
       " 'screen': 1,\n",
       " 'tutorial': 3,\n",
       " 'beginners': 1,\n",
       " 'great': 1,\n",
       " 'starting': 1,\n",
       " 'point': 1,\n",
       " 'limited': 1,\n",
       " 'hand': 1,\n",
       " 'quickly': 1,\n",
       " 'speed': 1,\n",
       " 'waste': 1,\n",
       " 'telling': 1,\n",
       " 'variable': 1,\n",
       " 'function': 1,\n",
       " 'talk': 1,\n",
       " 'better': 1,\n",
       " 'master': 1,\n",
       " 'click': 1,\n",
       " 'right': 1,\n",
       " 'started': 1,\n",
       " 'Thank': 1,\n",
       " 'watching': 1}"
      ]
     },
     "execution_count": 13,
     "metadata": {},
     "output_type": "execute_result"
    }
   ],
   "source": [
    "word_freq"
   ]
  },
  {
   "cell_type": "code",
   "execution_count": 14,
   "metadata": {},
   "outputs": [],
   "source": [
    "max_freq = max(word_freq.values())"
   ]
  },
  {
   "cell_type": "code",
   "execution_count": 15,
   "metadata": {},
   "outputs": [
    {
     "data": {
      "text/plain": [
       "27"
      ]
     },
     "execution_count": 15,
     "metadata": {},
     "output_type": "execute_result"
    }
   ],
   "source": [
    "max_freq"
   ]
  },
  {
   "cell_type": "code",
   "execution_count": 16,
   "metadata": {},
   "outputs": [],
   "source": [
    "for word in word_freq:\n",
    "    word_freq[word] = word_freq[word]/max_freq"
   ]
  },
  {
   "cell_type": "code",
   "execution_count": 17,
   "metadata": {},
   "outputs": [
    {
     "data": {
      "text/plain": [
       "{'video': 0.07407407407407407,\n",
       " 'm': 0.07407407407407407,\n",
       " 'going': 0.1111111111111111,\n",
       " 'answer': 0.037037037037037035,\n",
       " '3': 0.037037037037037035,\n",
       " 'questions': 0.037037037037037035,\n",
       " 'students': 0.037037037037037035,\n",
       " 'ask': 0.037037037037037035,\n",
       " 'Python': 1.0,\n",
       " 'popular': 0.1111111111111111,\n",
       " 'words': 0.037037037037037035,\n",
       " 'programming': 0.37037037037037035,\n",
       " 'languages': 0.14814814814814814,\n",
       " 'nt': 0.1111111111111111,\n",
       " 'worlds': 0.037037037037037035,\n",
       " 'fastest': 0.037037037037037035,\n",
       " 'growing': 0.037037037037037035,\n",
       " 'language': 0.25925925925925924,\n",
       " 'software': 0.14814814814814814,\n",
       " 'engineers': 0.07407407407407407,\n",
       " 'mathematicians': 0.037037037037037035,\n",
       " 'data': 0.07407407407407407,\n",
       " 'analysts': 0.037037037037037035,\n",
       " 'scientists': 0.037037037037037035,\n",
       " 'accountants': 0.037037037037037035,\n",
       " 'networking': 0.037037037037037035,\n",
       " 'kids': 0.037037037037037035,\n",
       " 'beginner': 0.07407407407407407,\n",
       " 'friendly': 0.037037037037037035,\n",
       " 'people': 0.07407407407407407,\n",
       " 'different': 0.07407407407407407,\n",
       " 'disciplines': 0.037037037037037035,\n",
       " 'use': 0.14814814814814814,\n",
       " 'variety': 0.037037037037037035,\n",
       " 'tasks': 0.1111111111111111,\n",
       " 'analysis': 0.037037037037037035,\n",
       " 'visualization': 0.037037037037037035,\n",
       " 'artificial': 0.037037037037037035,\n",
       " 'intelligence': 0.037037037037037035,\n",
       " 'machine': 0.037037037037037035,\n",
       " 'learning': 0.07407407407407407,\n",
       " 'automation': 0.037037037037037035,\n",
       " 'fact': 0.07407407407407407,\n",
       " 'big': 0.07407407407407407,\n",
       " 'uses': 0.037037037037037035,\n",
       " 'developers': 0.037037037037037035,\n",
       " 'constantly': 0.037037037037037035,\n",
       " 'boring': 0.037037037037037035,\n",
       " 'repetitive': 0.037037037037037035,\n",
       " 'copying': 0.037037037037037035,\n",
       " 'files': 0.07407407407407407,\n",
       " 'folders': 0.037037037037037035,\n",
       " 'renaming': 0.037037037037037035,\n",
       " 'uploading': 0.037037037037037035,\n",
       " 'server': 0.037037037037037035,\n",
       " 'easily': 0.037037037037037035,\n",
       " 'write': 0.07407407407407407,\n",
       " 'script': 0.037037037037037035,\n",
       " 'automate': 0.07407407407407407,\n",
       " 'save': 0.037037037037037035,\n",
       " 'time': 0.14814814814814814,\n",
       " 's': 0.18518518518518517,\n",
       " 'example': 0.07407407407407407,\n",
       " 'continuously': 0.037037037037037035,\n",
       " 'work': 0.07407407407407407,\n",
       " 'excel': 0.037037037037037035,\n",
       " 'spreadsheets': 0.037037037037037035,\n",
       " 'PDFs': 0.037037037037037035,\n",
       " 'CS': 0.037037037037037035,\n",
       " 'View': 0.037037037037037035,\n",
       " 'download': 0.037037037037037035,\n",
       " 'websites': 0.037037037037037035,\n",
       " 'parse': 0.037037037037037035,\n",
       " 'stuff': 0.07407407407407407,\n",
       " 'developer': 0.07407407407407407,\n",
       " 'accountant': 0.037037037037037035,\n",
       " 'mathematician': 0.037037037037037035,\n",
       " 'scientist': 0.037037037037037035,\n",
       " 'life': 0.037037037037037035,\n",
       " 'easier': 0.037037037037037035,\n",
       " 'build': 0.07407407407407407,\n",
       " 'web': 0.037037037037037035,\n",
       " 'mobile': 0.037037037037037035,\n",
       " 'desktop': 0.037037037037037035,\n",
       " 'applications': 0.07407407407407407,\n",
       " 'testing': 0.037037037037037035,\n",
       " 'hacking': 0.037037037037037035,\n",
       " 'multi': 0.037037037037037035,\n",
       " 'purpose': 0.037037037037037035,\n",
       " 'experience': 0.1111111111111111,\n",
       " 'Mosh': 0.037037037037037035,\n",
       " 'deal': 0.037037037037037035,\n",
       " 'reasons': 0.07407407407407407,\n",
       " 'solve': 0.037037037037037035,\n",
       " 'complex': 0.07407407407407407,\n",
       " 'problems': 0.037037037037037035,\n",
       " 'fewer': 0.037037037037037035,\n",
       " 'lines': 0.037037037037037035,\n",
       " 'code': 0.07407407407407407,\n",
       " 'Heres': 0.07407407407407407,\n",
       " 'Lets': 0.037037037037037035,\n",
       " 'want': 0.07407407407407407,\n",
       " 'extract': 0.037037037037037035,\n",
       " 'letters': 0.037037037037037035,\n",
       " 'text': 0.037037037037037035,\n",
       " 'Hello': 0.037037037037037035,\n",
       " 'World': 0.037037037037037035,\n",
       " 'C': 0.07407407407407407,\n",
       " 'JavaScript': 0.037037037037037035,\n",
       " 'heres': 0.037037037037037035,\n",
       " 'short': 0.037037037037037035,\n",
       " 'clean': 0.07407407407407407,\n",
       " 'beginning': 0.037037037037037035,\n",
       " 'makes': 0.037037037037037035,\n",
       " 'lot': 0.037037037037037035,\n",
       " 'trivial': 0.037037037037037035,\n",
       " 'things': 0.037037037037037035,\n",
       " 'easy': 0.037037037037037035,\n",
       " 'simple': 0.07407407407407407,\n",
       " 'powerful': 0.037037037037037035,\n",
       " 'syntax': 0.07407407407407407,\n",
       " 'high': 0.037037037037037035,\n",
       " 'level': 0.037037037037037035,\n",
       " 'worry': 0.037037037037037035,\n",
       " 'memory': 0.037037037037037035,\n",
       " 'management': 0.037037037037037035,\n",
       " 'like': 0.07407407407407407,\n",
       " 'cross': 0.037037037037037035,\n",
       " 'platform': 0.037037037037037035,\n",
       " 'means': 0.1111111111111111,\n",
       " 'run': 0.037037037037037035,\n",
       " 'Windows': 0.037037037037037035,\n",
       " 'Mac': 0.037037037037037035,\n",
       " 'Linux': 0.037037037037037035,\n",
       " 'huge': 0.037037037037037035,\n",
       " 'community': 0.037037037037037035,\n",
       " 'stuck': 0.037037037037037035,\n",
       " 'help': 0.037037037037037035,\n",
       " 'large': 0.037037037037037035,\n",
       " 'ecosystem': 0.037037037037037035,\n",
       " 'libraries': 0.037037037037037035,\n",
       " 'frameworks': 0.037037037037037035,\n",
       " 'tools': 0.037037037037037035,\n",
       " 'wanna': 0.037037037037037035,\n",
       " 'likely': 0.037037037037037035,\n",
       " '20': 0.037037037037037035,\n",
       " 'years': 0.037037037037037035,\n",
       " 'nutshell': 0.037037037037037035,\n",
       " 'multipurpose': 0.037037037037037035,\n",
       " 'beginnerfriendly': 0.037037037037037035,\n",
       " 'awesome': 0.07407407407407407,\n",
       " 'Technically': 0.037037037037037035,\n",
       " 'Pythons': 0.037037037037037035,\n",
       " 'simplicity': 0.037037037037037035,\n",
       " 'elegance': 0.037037037037037035,\n",
       " 'grow': 0.037037037037037035,\n",
       " 'way': 0.037037037037037035,\n",
       " 'number': 0.037037037037037035,\n",
       " 'onne': 0.037037037037037035,\n",
       " 'employers': 0.037037037037037035,\n",
       " 'looking': 0.037037037037037035,\n",
       " 'programmer': 0.07407407407407407,\n",
       " 'absolute': 0.037037037037037035,\n",
       " 'opens': 0.037037037037037035,\n",
       " 'lots': 0.037037037037037035,\n",
       " 'job': 0.037037037037037035,\n",
       " 'opportunities': 0.037037037037037035,\n",
       " 'average': 0.037037037037037035,\n",
       " 'earns': 0.037037037037037035,\n",
       " 'whopping': 0.037037037037037035,\n",
       " '116000': 0.037037037037037035,\n",
       " 'dollars': 0.037037037037037035,\n",
       " 'year': 0.037037037037037035,\n",
       " 'found': 0.037037037037037035,\n",
       " 'helpful': 0.037037037037037035,\n",
       " 'support': 0.037037037037037035,\n",
       " 'hard': 0.037037037037037035,\n",
       " 'liking': 0.037037037037037035,\n",
       " 'sharing': 0.037037037037037035,\n",
       " 'sure': 0.037037037037037035,\n",
       " 'subscribe': 0.037037037037037035,\n",
       " 'channel': 0.037037037037037035,\n",
       " 'couple': 0.037037037037037035,\n",
       " 'tutorials': 0.037037037037037035,\n",
       " 'screen': 0.037037037037037035,\n",
       " 'tutorial': 0.1111111111111111,\n",
       " 'beginners': 0.037037037037037035,\n",
       " 'great': 0.037037037037037035,\n",
       " 'starting': 0.037037037037037035,\n",
       " 'point': 0.037037037037037035,\n",
       " 'limited': 0.037037037037037035,\n",
       " 'hand': 0.037037037037037035,\n",
       " 'quickly': 0.037037037037037035,\n",
       " 'speed': 0.037037037037037035,\n",
       " 'waste': 0.037037037037037035,\n",
       " 'telling': 0.037037037037037035,\n",
       " 'variable': 0.037037037037037035,\n",
       " 'function': 0.037037037037037035,\n",
       " 'talk': 0.037037037037037035,\n",
       " 'better': 0.037037037037037035,\n",
       " 'master': 0.037037037037037035,\n",
       " 'click': 0.037037037037037035,\n",
       " 'right': 0.037037037037037035,\n",
       " 'started': 0.037037037037037035,\n",
       " 'Thank': 0.037037037037037035,\n",
       " 'watching': 0.037037037037037035}"
      ]
     },
     "execution_count": 17,
     "metadata": {},
     "output_type": "execute_result"
    }
   ],
   "source": [
    "word_freq"
   ]
  },
  {
   "cell_type": "code",
   "execution_count": 18,
   "metadata": {},
   "outputs": [],
   "source": [
    "sent_token = [sent for sent in doc.sents]"
   ]
  },
  {
   "cell_type": "code",
   "execution_count": 19,
   "metadata": {},
   "outputs": [
    {
     "data": {
      "text/plain": [
       "And why is it so popular In other words what does it do"
      ]
     },
     "execution_count": 19,
     "metadata": {},
     "output_type": "execute_result"
    }
   ],
   "source": [
    "sent_token[2]"
   ]
  },
  {
   "cell_type": "code",
   "execution_count": 20,
   "metadata": {},
   "outputs": [
    {
     "data": {
      "text/plain": [
       "In this video Im going to answer the top 3 questions my students ask me about Python What is Python What can you do with it And why is it so popular In other words what does it do that other programming languages dont Python is the worlds fastest growing and most popular programming language not just amongst software engineers but also amongst mathematicians data analysts scientists accountants networking engineers and even kids Because its a very beginner friendly programming language So people from different disciplines use Python for a variety of different tasks such as data analysis and visualization artificial intelligence and machine learning automation in fact this is one of the big uses of Python amongst people who are not software developers If you constantly have to do boring repetitive tasks such as copying files and folders around renaming them uploading them to a server you can easily write a Python script to automate all that and save your time And thats just one example if you continuously have to work with excel spreadsheets PDFs CS View files download websites and parse them you can automate all that stuff with Python So you dont have to be a software developer to use Python You could be an accountant a mathematician or a scientist and use Python to make your life easier You can also use Python to build web mobile and desktop applications as well as software testing or even hacking So Python is a multi purpose language Now if you have some programming experience you may say But Mosh we can do all this stuff with other programming languages so whats the big deal about Python Here are a few reasons With Python you can solve complex problems in less time with fewer lines of code Heres an example Lets say we want to extract the first three letters of the text Hello World This is the code we have to write in C this is how we do it in JavaScript and heres how we do it in Python See how short and clean the language is And thats just the beginning Python makes a lot of trivial things really easy with a simple yet powerful syntax Here are a few other reasons Python is so popular Its a high level language so you dont have to worry about complex tasks such as memory management like you do in C Its cross platform which means you can build and run Python applications on Windows Mac and Linux It has a huge community so whenever you get stuck there is someone out there to help It has a large ecosystem of libraries frameworks and tools which means whatever you wanna do it is likely that someone else has done it before because Python has been around for over 20 years So in a nutshell Python is a multipurpose language with a simple clean and beginnerfriendly syntax All of that means Python is awesome Technically everything you do with Python you can do with other programming languages but Pythons simplicity and elegance has made it grow way more than other programming languages Thats why its the number onne language employers are looking for So whether youre a programmer or an absolute beginner learning Python opens up lots of job opportunities to you In fact the average Python developer earns a whopping 116000 dollars a year If you found this video helpful please support my hard work by liking and sharing it with others Also be sure to subscribe to my channel because I have a couple of awesome Python tutorials for you youre going to see them on the screen now Heres my Python tutorial for beginners its a great starting point if you have limited or no programming experience On the other hand if you do have some programming experience and want to quickly get up to speed with Python I have another tutorial just for you Im not going to waste your time telling you what a variable or a function is I will talk to you like a programmer Theres never been a better time to master Python programming so click on the tutorial that is right for you and get started Thank you for watching"
      ]
     },
     "execution_count": 20,
     "metadata": {},
     "output_type": "execute_result"
    }
   ],
   "source": [
    "doc"
   ]
  },
  {
   "cell_type": "code",
   "execution_count": 21,
   "metadata": {},
   "outputs": [],
   "source": [
    "sent_scores = {}\n",
    "for sent in sent_token:\n",
    "    for word in sent:\n",
    "        if word.text in word_freq.keys():\n",
    "            if sent not in sent_scores.keys():\n",
    "                sent_scores[sent] = word_freq[word.text]\n",
    "            else:\n",
    "                sent_scores[sent] += word_freq[word.text]    \n"
   ]
  },
  {
   "cell_type": "code",
   "execution_count": 22,
   "metadata": {},
   "outputs": [
    {
     "data": {
      "text/plain": [
       "{In this video Im going to answer the top 3 questions my students ask me about Python What is Python: 2.4444444444444446,\n",
       " And why is it so popular In other words what does it do: 0.14814814814814814,\n",
       " that other programming languages dont Python is the worlds fastest growing and most popular programming language not just amongst software engineers but also amongst mathematicians data analysts scientists accountants networking engineers and even kids Because its a very beginner friendly programming language So people from different disciplines use Python for a variety of different tasks such as data analysis and visualization artificial intelligence and machine learning automation in fact this is one of the big uses of Python amongst people who are not software developers If you constantly have to do boring repetitive tasks such as copying files and folders around renaming them uploading them to a server you can easily write a Python script to automate all that and save your time And thats just one example if you continuously have to work with excel spreadsheets PDFs CS View files download websites and parse them you can automate all that stuff with Python: 10.962962962962962,\n",
       " So you dont have to be a software developer to use Python: 1.4814814814814814,\n",
       " You could be an accountant a mathematician or a scientist and use Python to make your life easier You can also use Python to build web mobile and desktop applications as well as software testing or even hacking So Python is a multi purpose language Now if you have some programming experience you may say: 4.777777777777779,\n",
       " But Mosh we can do all this stuff with other programming languages so whats the big deal about Python Here are a few reasons With Python you can solve complex problems in less time with fewer lines of code Heres an example Lets say we want to extract the first three letters of the text: 3.8148148148148158,\n",
       " Hello World: 0.07407407407407407,\n",
       " This is the code we have to write in C this is how we do it in JavaScript and heres how we do it in Python: 1.2962962962962963,\n",
       " See how short and clean the language is: 0.37037037037037035,\n",
       " And thats just the beginning Python makes a lot of trivial things really easy with a simple yet powerful syntax Here are a few other reasons Python is so popular Its a high level language: 3.111111111111111,\n",
       " so you dont have to worry about complex tasks such as memory management like you do in C: 0.5555555555555556,\n",
       " Its cross platform which means you can build and run Python applications on Windows Mac and Linux: 1.4814814814814812,\n",
       " It has a huge community: 0.07407407407407407,\n",
       " so whenever you get stuck there is someone out there to help It has a large ecosystem of libraries frameworks and tools which means whatever you wanna do it is likely that someone else has done it before because Python has been around for over 20 years So in a nutshell Python is a multipurpose language with a simple clean and beginnerfriendly syntax All of that means Python is awesome Technically everything you do with Python you can do with other programming languages but Pythons simplicity and elegance has made it grow way more than other programming languages Thats why its the number onne language employers are looking for So whether youre a programmer or an absolute beginner learning Python opens up lots of job opportunities to you: 8.555555555555554,\n",
       " In fact the average Python developer earns a whopping 116000 dollars a year If you found this video helpful please support my hard work by liking and sharing it with others Also be sure to subscribe to my channel because I have a couple of awesome Python tutorials for you youre going to see them on the screen now Heres my Python tutorial for beginners its a great starting point if you have limited or no programming experience On the other hand if you do have some programming experience and want to quickly get up to speed with Python I have another tutorial just for you Im not going to waste your time telling you what a variable or a function is I will talk to you like a programmer Theres never been a better time to master Python programming so click on the tutorial that is right for you and get started Thank you for watching: 9.518518518518514}"
      ]
     },
     "execution_count": 22,
     "metadata": {},
     "output_type": "execute_result"
    }
   ],
   "source": [
    "sent_scores"
   ]
  },
  {
   "cell_type": "code",
   "execution_count": 23,
   "metadata": {},
   "outputs": [],
   "source": [
    "select_len = int(len(sent_token)*0.3)"
   ]
  },
  {
   "cell_type": "code",
   "execution_count": 24,
   "metadata": {},
   "outputs": [
    {
     "data": {
      "text/plain": [
       "4"
      ]
     },
     "execution_count": 24,
     "metadata": {},
     "output_type": "execute_result"
    }
   ],
   "source": [
    "select_len"
   ]
  },
  {
   "cell_type": "code",
   "execution_count": null,
   "metadata": {},
   "outputs": [],
   "source": []
  },
  {
   "cell_type": "code",
   "execution_count": 25,
   "metadata": {},
   "outputs": [
    {
     "ename": "NameError",
     "evalue": "name 'nlargest' is not defined",
     "output_type": "error",
     "traceback": [
      "\u001b[0;31m---------------------------------------------------------------------------\u001b[0m",
      "\u001b[0;31mNameError\u001b[0m                                 Traceback (most recent call last)",
      "\u001b[1;32m/Users/subhammishra/Desktop/M E R N/thoughts/text-summarizer/model1.ipynb Cell 26\u001b[0m in \u001b[0;36m<cell line: 1>\u001b[0;34m()\u001b[0m\n\u001b[0;32m----> <a href='vscode-notebook-cell:/Users/subhammishra/Desktop/M%20E%20R%20N/thoughts/text-summarizer/model1.ipynb#X34sZmlsZQ%3D%3D?line=0'>1</a>\u001b[0m summary \u001b[39m=\u001b[39m nlargest(select_len,sent_scores,key \u001b[39m=\u001b[39m sent_scores\u001b[39m.\u001b[39mget)\n",
      "\u001b[0;31mNameError\u001b[0m: name 'nlargest' is not defined"
     ]
    }
   ],
   "source": [
    "summary = nlargest(select_len,sent_scores,key = sent_scores.get)"
   ]
  },
  {
   "cell_type": "code",
   "execution_count": null,
   "metadata": {},
   "outputs": [
    {
     "data": {
      "text/plain": [
       "[that other programming languages dont Python is the worlds fastest growing and most popular programming language not just amongst software engineers but also amongst mathematicians data analysts scientists accountants networking engineers and even kids Because its a very beginner friendly programming language So people from different disciplines use Python for a variety of different tasks such as data analysis and visualization artificial intelligence and machine learning automation in fact this is one of the big uses of Python amongst people who are not software developers If you constantly have to do boring repetitive tasks such as copying files and folders around renaming them uploading them to a server you can easily write a Python script to automate all that and save your time And thats just one example if you continuously have to work with excel spreadsheets PDFs CS View files download websites and parse them you can automate all that stuff with Python,\n",
       " In fact the average Python developer earns a whopping 116000 dollars a year If you found this video helpful please support my hard work by liking and sharing it with others Also be sure to subscribe to my channel because I have a couple of awesome Python tutorials for you youre going to see them on the screen now Heres my Python tutorial for beginners its a great starting point if you have limited or no programming experience On the other hand if you do have some programming experience and want to quickly get up to speed with Python I have another tutorial just for you Im not going to waste your time telling you what a variable or a function is I will talk to you like a programmer Theres never been a better time to master Python programming so click on the tutorial that is right for you and get started Thank you for watching,\n",
       " so whenever you get stuck there is someone out there to help It has a large ecosystem of libraries frameworks and tools which means whatever you wanna do it is likely that someone else has done it before because Python has been around for over 20 years So in a nutshell Python is a multipurpose language with a simple clean and beginnerfriendly syntax All of that means Python is awesome Technically everything you do with Python you can do with other programming languages but Pythons simplicity and elegance has made it grow way more than other programming languages Thats why its the number onne language employers are looking for So whether youre a programmer or an absolute beginner learning Python opens up lots of job opportunities to you,\n",
       " You could be an accountant a mathematician or a scientist and use Python to make your life easier You can also use Python to build web mobile and desktop applications as well as software testing or even hacking So Python is a multi purpose language Now if you have some programming experience you may say]"
      ]
     },
     "execution_count": 64,
     "metadata": {},
     "output_type": "execute_result"
    }
   ],
   "source": [
    "summary"
   ]
  },
  {
   "cell_type": "code",
   "execution_count": null,
   "metadata": {},
   "outputs": [],
   "source": [
    "final_summary = [word.text for word in summary]"
   ]
  },
  {
   "cell_type": "code",
   "execution_count": null,
   "metadata": {},
   "outputs": [],
   "source": [
    "summary = ' '.join(final_summary)"
   ]
  },
  {
   "cell_type": "code",
   "execution_count": null,
   "metadata": {},
   "outputs": [
    {
     "data": {
      "text/plain": [
       "'that other programming languages dont Python is the worlds fastest growing and most popular programming language not just amongst software engineers but also amongst mathematicians data analysts scientists accountants networking engineers and even kids Because its a very beginner friendly programming language So people from different disciplines use Python for a variety of different tasks such as data analysis and visualization artificial intelligence and machine learning automation in fact this is one of the big uses of Python amongst people who are not software developers If you constantly have to do boring repetitive tasks such as copying files and folders around renaming them uploading them to a server you can easily write a Python script to automate all that and save your time And thats just one example if you continuously have to work with excel spreadsheets PDFs CS View files download websites and parse them you can automate all that stuff with Python In fact the average Python developer earns a whopping 116000 dollars a year If you found this video helpful please support my hard work by liking and sharing it with others Also be sure to subscribe to my channel because I have a couple of awesome Python tutorials for you youre going to see them on the screen now Heres my Python tutorial for beginners its a great starting point if you have limited or no programming experience On the other hand if you do have some programming experience and want to quickly get up to speed with Python I have another tutorial just for you Im not going to waste your time telling you what a variable or a function is I will talk to you like a programmer Theres never been a better time to master Python programming so click on the tutorial that is right for you and get started Thank you for watching so whenever you get stuck there is someone out there to help It has a large ecosystem of libraries frameworks and tools which means whatever you wanna do it is likely that someone else has done it before because Python has been around for over 20 years So in a nutshell Python is a multipurpose language with a simple clean and beginnerfriendly syntax All of that means Python is awesome Technically everything you do with Python you can do with other programming languages but Pythons simplicity and elegance has made it grow way more than other programming languages Thats why its the number onne language employers are looking for So whether youre a programmer or an absolute beginner learning Python opens up lots of job opportunities to you You could be an accountant a mathematician or a scientist and use Python to make your life easier You can also use Python to build web mobile and desktop applications as well as software testing or even hacking So Python is a multi purpose language Now if you have some programming experience you may say'"
      ]
     },
     "execution_count": 70,
     "metadata": {},
     "output_type": "execute_result"
    }
   ],
   "source": [
    "summary"
   ]
  },
  {
   "cell_type": "code",
   "execution_count": null,
   "metadata": {},
   "outputs": [],
   "source": []
  }
 ],
 "metadata": {
  "kernelspec": {
   "display_name": "base",
   "language": "python",
   "name": "python3"
  },
  "language_info": {
   "codemirror_mode": {
    "name": "ipython",
    "version": 3
   },
   "file_extension": ".py",
   "mimetype": "text/x-python",
   "name": "python",
   "nbconvert_exporter": "python",
   "pygments_lexer": "ipython3",
   "version": "3.9.12"
  },
  "orig_nbformat": 4,
  "vscode": {
   "interpreter": {
    "hash": "62dad0110ab54a4afd720655a9d451ae5db86159c8c27aa3361e8f9c616f9c1c"
   }
  }
 },
 "nbformat": 4,
 "nbformat_minor": 2
}
